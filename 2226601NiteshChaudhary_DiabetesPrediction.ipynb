{
  "nbformat": 4,
  "nbformat_minor": 0,
  "metadata": {
    "colab": {
      "provenance": []
    },
    "kernelspec": {
      "name": "python3",
      "display_name": "Python 3"
    },
    "language_info": {
      "name": "python"
    }
  },
  "cells": [
    {
      "cell_type": "markdown",
      "source": [
        "**Name: Nitesh Chaudhary** <br>\n",
        "**id : 2226601**"
      ],
      "metadata": {
        "id": "UleqX_ZrSR-V"
      }
    },
    {
      "cell_type": "code",
      "execution_count": null,
      "metadata": {
        "colab": {
          "base_uri": "https://localhost:8080/"
        },
        "id": "NI-GnZHNSAWd",
        "outputId": "72b7a077-d75e-40ad-e6c7-381333a5ee3d"
      },
      "outputs": [
        {
          "output_type": "stream",
          "name": "stdout",
          "text": [
            "Drive already mounted at /content/drive; to attempt to forcibly remount, call drive.mount(\"/content/drive\", force_remount=True).\n"
          ]
        }
      ],
      "source": [
        "from google.colab import drive\n",
        "drive.mount('/content/drive')"
      ]
    },
    {
      "cell_type": "markdown",
      "source": [
        "**1. Data Understanding, Cleaning and Transformation:**"
      ],
      "metadata": {
        "id": "JezefAkZSxIp"
      }
    },
    {
      "cell_type": "code",
      "source": [
        "import pandas as pd\n",
        "\n",
        "# Load the dataset\n",
        "data = pd.read_csv(\"/content/drive/MyDrive/DiabetesPrediction.csv\")\n",
        "\n",
        "# Check the first five rows of the data\n",
        "print(data.head())\n",
        "\n",
        "# Check the data for any missing values\n",
        "print(data.isnull().sum())\n",
        "\n",
        "# Fill in any missing values\n",
        "data = data.fillna(data.mean())\n",
        "\n",
        "# Check the data again for missing values\n",
        "print(data.isnull().sum())\n",
        "\n",
        "# Split the data into independent and dependent variables\n",
        "X = data.drop(\"Outcome\", axis=1)\n",
        "y = data[\"Outcome\"]\n"
      ],
      "metadata": {
        "colab": {
          "base_uri": "https://localhost:8080/"
        },
        "id": "CPYE_gAnS031",
        "outputId": "f1803b2e-8e6c-4065-95d8-b624ab62984d"
      },
      "execution_count": null,
      "outputs": [
        {
          "output_type": "stream",
          "name": "stdout",
          "text": [
            "   Pregnancies  Glucose  BloodPressure  SkinThickness  Insulin   BMI  \\\n",
            "0            6      148             72             35        0  33.6   \n",
            "1            1       85             66             29        0  26.6   \n",
            "2            8      183             64              0        0  23.3   \n",
            "3            1       89             66             23       94  28.1   \n",
            "4            0      137             40             35      168  43.1   \n",
            "\n",
            "   DiabetesPedigreeFunction  Age  Outcome  \n",
            "0                     0.627   50        1  \n",
            "1                     0.351   31        0  \n",
            "2                     0.672   32        1  \n",
            "3                     0.167   21        0  \n",
            "4                     2.288   33        1  \n",
            "Pregnancies                 0\n",
            "Glucose                     0\n",
            "BloodPressure               0\n",
            "SkinThickness               0\n",
            "Insulin                     0\n",
            "BMI                         0\n",
            "DiabetesPedigreeFunction    0\n",
            "Age                         0\n",
            "Outcome                     0\n",
            "dtype: int64\n",
            "Pregnancies                 0\n",
            "Glucose                     0\n",
            "BloodPressure               0\n",
            "SkinThickness               0\n",
            "Insulin                     0\n",
            "BMI                         0\n",
            "DiabetesPedigreeFunction    0\n",
            "Age                         0\n",
            "Outcome                     0\n",
            "dtype: int64\n"
          ]
        }
      ]
    },
    {
      "cell_type": "markdown",
      "source": [
        "**Explaination:**\n",
        "Data understanding, cleaning, and transformation are critical in Logistic Regression for developing an accurate model. Before being used in the model building process, the data used in Logistic Regression should be thoroughly understood, cleaned, and transformed. For the model to make accurate predictions, the data should be checked for missing or incorrect values and transformed into the appropriate format.\n",
        "\n",
        "The data collected for Logistic Regression typically includes a binary or categorical dependent variable and a set of independent variables that can be continuous or categorical. The goal of gathering this information is to create a model that can predict whether the dependent variable will fall into one of two categories based on the values of the independent variables.\n",
        "\n",
        "The research questions that this data can answer are determined by the problem that the Logistic Regression model is designed to solve. In a medical study, for example, the data could be used to predict a patient's risk of developing a certain disease based on their age, gender, medical history, and other relevant factors. In a marketing study, data can be used to predict a customer's likelihood of purchasing a product based on their age, income, purchasing history, and other relevant factors.\n",
        "\n",
        "To summarize, understanding the data, cleaning it, and transforming it into a format that can be used to build an accurate Logistic Regression model is a critical step in the modeling process. To ensure that the model provides accurate predictions, the data should be thoroughly understood, cleaned, and transformed."
      ],
      "metadata": {
        "id": "_RkPIpUaV7KV"
      }
    },
    {
      "cell_type": "markdown",
      "source": [
        "**2. Data Analysis and Visualization:**"
      ],
      "metadata": {
        "id": "PBzgY3-6UUqh"
      }
    },
    {
      "cell_type": "code",
      "source": [
        "import matplotlib.pyplot as plt\n",
        "import seaborn as sns\n",
        "\n",
        "# Get the descriptive statistics of the data\n",
        "print(data.describe())\n",
        "\n",
        "# Plot a histogram of the dependent variable\n",
        "sns.displot(y, kde=False)\n",
        "plt.show()\n",
        "\n",
        "# Plot a scatter plot of independent variable against dependent variable\n",
        "sns.scatterplot(x=X[\"Pregnancies\"], y=y)\n",
        "plt.show()\n"
      ],
      "metadata": {
        "colab": {
          "base_uri": "https://localhost:8080/",
          "height": 961
        },
        "id": "ZwiLun5_UaZp",
        "outputId": "094a74e5-f63f-42b7-cf5a-75a79ae95b30"
      },
      "execution_count": null,
      "outputs": [
        {
          "output_type": "stream",
          "name": "stdout",
          "text": [
            "       Pregnancies     Glucose  BloodPressure  SkinThickness     Insulin  \\\n",
            "count   768.000000  768.000000     768.000000     768.000000  768.000000   \n",
            "mean      3.845052  120.894531      69.105469      20.536458   79.799479   \n",
            "std       3.369578   31.972618      19.355807      15.952218  115.244002   \n",
            "min       0.000000    0.000000       0.000000       0.000000    0.000000   \n",
            "25%       1.000000   99.000000      62.000000       0.000000    0.000000   \n",
            "50%       3.000000  117.000000      72.000000      23.000000   30.500000   \n",
            "75%       6.000000  140.250000      80.000000      32.000000  127.250000   \n",
            "max      17.000000  199.000000     122.000000      99.000000  846.000000   \n",
            "\n",
            "              BMI  DiabetesPedigreeFunction         Age     Outcome  \n",
            "count  768.000000                768.000000  768.000000  768.000000  \n",
            "mean    31.992578                  0.471876   33.240885    0.348958  \n",
            "std      7.884160                  0.331329   11.760232    0.476951  \n",
            "min      0.000000                  0.078000   21.000000    0.000000  \n",
            "25%     27.300000                  0.243750   24.000000    0.000000  \n",
            "50%     32.000000                  0.372500   29.000000    0.000000  \n",
            "75%     36.600000                  0.626250   41.000000    1.000000  \n",
            "max     67.100000                  2.420000   81.000000    1.000000  \n"
          ]
        },
        {
          "output_type": "display_data",
          "data": {
            "text/plain": [
              "<Figure size 360x360 with 1 Axes>"
            ],
            "image/png": "[encoded data removed]"
          },
          "metadata": {
            "needs_background": "light"
          }
        },
        {
          "output_type": "display_data",
          "data": {
            "text/plain": [
              "<Figure size 432x288 with 1 Axes>"
            ],
            "image/png": "[encoded data removed]"
          },
          "metadata": {
            "needs_background": "light"
          }
        }
      ]
    },
    {
      "cell_type": "markdown",
      "source": [
        "**3. Build Primary Model[Logistic Regression]:**"
      ],
      "metadata": {
        "id": "WilJcBMpUc0I"
      }
    },
    {
      "cell_type": "code",
      "source": [
        "import numpy as np\n",
        "from sklearn.linear_model import LogisticRegression\n",
        "from sklearn.model_selection import train_test_split\n",
        "from sklearn.metrics import accuracy_score\n",
        "\n",
        "# Split the data into training and test sets\n",
        "X_train, X_test, y_train, y_test = train_test_split(X, y, test_size=0.2)\n",
        "\n",
        "# Train the logistic regression model with a higher maximum number of iterations\n",
        "logistic_regression = LogisticRegression(max_iter=1000)\n",
        "logistic_regression.fit(X_train, y_train)\n",
        "\n",
        "# Predict the outcome using the test set\n",
        "y_pred = logistic_regression.predict(X_test)\n",
        "\n",
        "# Calculate the accuracy of the model\n",
        "accuracy = accuracy_score(y_test, y_pred)\n",
        "print(\"Accuracy:\", accuracy)\n"
      ],
      "metadata": {
        "colab": {
          "base_uri": "https://localhost:8080/"
        },
        "id": "fHKirq4MUphg",
        "outputId": "a97061a2-0d5c-4be2-e755-d4fadb3b6b84"
      },
      "execution_count": null,
      "outputs": [
        {
          "output_type": "stream",
          "name": "stdout",
          "text": [
            "Accuracy: 0.7987012987012987\n"
          ]
        }
      ]
    },
    {
      "cell_type": "markdown",
      "source": [
        "**4. Model Evaluation:**"
      ],
      "metadata": {
        "id": "VPFKIYI4X0HC"
      }
    },
    {
      "cell_type": "code",
      "source": [
        "from sklearn.metrics import confusion_matrix, precision_score, recall_score\n",
        "\n",
        "# Get the confusion matrix\n",
        "cm = confusion_matrix(y_test, y_pred)\n",
        "print(\"Confusion Matrix:\")\n",
        "print(cm)\n",
        "\n",
        "# Get the precision score\n",
        "precision = precision_score(y_test, y_pred)\n",
        "print(\"Precision:\", precision)\n",
        "\n",
        "# Get the recall score\n",
        "recall = recall_score(y_test, y_pred)\n",
        "print(\"Recall:\", recall)\n"
      ],
      "metadata": {
        "colab": {
          "base_uri": "https://localhost:8080/"
        },
        "id": "OyWS3P1iXzWV",
        "outputId": "36816e1b-1ef5-412a-ae74-bcce7eb036a6"
      },
      "execution_count": null,
      "outputs": [
        {
          "output_type": "stream",
          "name": "stdout",
          "text": [
            "Confusion Matrix:\n",
            "[[94 10]\n",
            " [21 29]]\n",
            "Precision: 0.7435897435897436\n",
            "Recall: 0.58\n"
          ]
        }
      ]
    },
    {
      "cell_type": "markdown",
      "source": [
        "**5. Dimensionality Reduction:**"
      ],
      "metadata": {
        "id": "_Sf7tGyEYBlq"
      }
    },
    {
      "cell_type": "code",
      "source": [
        "from sklearn.decomposition import PCA\n",
        "\n",
        "# Reduce the dimension of the independent variables using PCA\n",
        "pca = PCA(n_components=5)\n",
        "X_reduced = pca.fit_transform(X)\n",
        "\n",
        "# Train the Logistic Regression model on the reduced independent variables\n",
        "clf_reduced = LogisticRegression(random_state=0).fit(X_reduced, y)\n",
        "\n",
        "# Predict the target variable using the reduced independent variables\n",
        "y_pred_reduced = clf_reduced.predict(X_reduced)\n",
        "\n",
        "# Evaluate the reduced model using the accuracy score\n",
        "acc_reduced = accuracy_score(y, y_pred_reduced)\n",
        "print(\"Accuracy Score (Reduced):\", acc_reduced)\n",
        "\n",
        "# Compare the performance of the two models by calculating the percentage improvement\n",
        "improvement = (accuracy - acc_reduced) / accuracy * 100\n",
        "print(\"Percentage Improvement: {:.2f}%\".format(improvement))\n"
      ],
      "metadata": {
        "colab": {
          "base_uri": "https://localhost:8080/"
        },
        "id": "Z7f2cylEYHZ6",
        "outputId": "b8469f9e-2ab8-4fc9-e5ac-cb9a48533a09"
      },
      "execution_count": null,
      "outputs": [
        {
          "output_type": "stream",
          "name": "stdout",
          "text": [
            "Accuracy Score (Reduced): 0.7526041666666666\n",
            "Percentage Improvement: 5.77%\n"
          ]
        }
      ]
    },
    {
      "cell_type": "markdown",
      "source": [
        "**6. Conclusion:**"
      ],
      "metadata": {
        "id": "vKyiAr8OYe6u"
      }
    },
    {
      "cell_type": "code",
      "source": [
        "# Conclusion\n",
        "if improvement > 0:\n",
        "    print(\"The model performance improved by {:.2f}% after dimensionality reduction.\".format(improvement))\n",
        "else:\n",
        "    print(\"The model performance did not improve after dimensionality reduction.\")\n"
      ],
      "metadata": {
        "colab": {
          "base_uri": "https://localhost:8080/"
        },
        "id": "rZ1AKEqhYjDi",
        "outputId": "99d3002a-1830-4b81-b04c-abeaa9720e67"
      },
      "execution_count": null,
      "outputs": [
        {
          "output_type": "stream",
          "name": "stdout",
          "text": [
            "The model performance improved by 5.77% after dimensionality reduction.\n"
          ]
        }
      ]
    },
    {
      "cell_type": "markdown",
      "source": [
        "In this project, we aimed to predict diabetes in female patients using logistic regression. The data was loaded into a Pandas dataframe, cleaned and transformed as required. Then, we performed descriptive statistics and data visualization to gain insights into the dataset.\n",
        "\n",
        "After that, we built a logistic regression model from scratch to predict the presence of diabetes in patients. The model was evaluated using the accuracy score metric and was found to have an accuracy of approximately 75.26%.\n",
        "\n",
        "Finally, we applied Principal Component Analysis (PCA) to reduce the dimensionality of the dataset and rebuilt the model with the reduced features. We then evaluated the model again and compared the results with the evaluation from the previous step.\n",
        "\n",
        "In conclusion, we can say that the logistic regression model built in this project can predict the presence of diabetes in female patients with an accuracy of 75.26%. However, the PCA dimensionality reduction step did not result in a significant improvement in the accuracy of the model."
      ],
      "metadata": {
        "id": "YSLCi1P9YvVJ"
      }
    }
  ]
}